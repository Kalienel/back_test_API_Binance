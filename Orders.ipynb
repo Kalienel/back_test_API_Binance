{
 "cells": [
  {
   "cell_type": "code",
   "execution_count": 1,
   "id": "248c9848-00aa-48c6-ad93-e053f4c7b08e",
   "metadata": {},
   "outputs": [],
   "source": [
    "import pandas as pd\n",
    "import numpy as np\n",
    "import matplotlib.pyplot as plt\n",
    "import seaborn as sns\n",
    "from binance.spot import Spot"
   ]
  },
  {
   "cell_type": "code",
   "execution_count": 8,
   "id": "847d5258-b13b-4c26-a458-e8467eb80ce5",
   "metadata": {
    "tags": []
   },
   "outputs": [],
   "source": [
    "def orders(crypto = 'ETHBRL'):\n",
    "\n",
    "    spot_client = Spot(base_url=\"https://api.binance.com\")\n",
    "\n",
    "    orders = spot_client.depth(crypto)\n",
    "    bids = orders['bids']\n",
    "    asks = orders['asks']\n",
    "    \n",
    "    df1 = pd.DataFrame({'symb':crypto,'type':'bids','price':list(zip(*bids))[0],'qty':list(zip(*bids))[1]})\n",
    "    df2 = pd.DataFrame({'symb':crypto,'type':'asks','price':list(zip(*asks))[0],'qty':list(zip(*asks))[1]})\n",
    "    \n",
    "    for col in ['price','qty']:\n",
    "        df1[col] = pd.to_numeric(df1[col])\n",
    "        df2[col] = pd.to_numeric(df2[col])\n",
    "    \n",
    "    df_final = pd.concat([df1,df2])\n",
    "    \n",
    "\n",
    "    \n",
    "    return df_final,df1,df2"
   ]
  },
  {
   "cell_type": "code",
   "execution_count": 9,
   "id": "7b2fd93f-9f0b-4995-8662-3bf9863b8319",
   "metadata": {},
   "outputs": [],
   "source": [
    "orders,buy,sell = orders()"
   ]
  },
  {
   "cell_type": "code",
   "execution_count": 14,
   "id": "96272bc7-35c7-4e1c-9959-3bf23dec539b",
   "metadata": {},
   "outputs": [],
   "source": [
    "orders.to_csv('orders.csv')"
   ]
  },
  {
   "cell_type": "code",
   "execution_count": null,
   "id": "a7ae3718-1f1f-4ca8-b235-12817bb79c6c",
   "metadata": {},
   "outputs": [],
   "source": []
  },
  {
   "cell_type": "code",
   "execution_count": null,
   "id": "d84ea917-b9dd-4dcb-b11b-ff02c31e96d3",
   "metadata": {},
   "outputs": [],
   "source": []
  }
 ],
 "metadata": {
  "kernelspec": {
   "display_name": "Python 3",
   "language": "python",
   "name": "python3"
  },
  "language_info": {
   "codemirror_mode": {
    "name": "ipython",
    "version": 3
   },
   "file_extension": ".py",
   "mimetype": "text/x-python",
   "name": "python",
   "nbconvert_exporter": "python",
   "pygments_lexer": "ipython3",
   "version": "3.8.8"
  }
 },
 "nbformat": 4,
 "nbformat_minor": 5
}
